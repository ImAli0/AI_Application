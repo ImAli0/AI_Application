{
  "cells": [
    {
      "cell_type": "markdown",
      "metadata": {
        "id": "view-in-github",
        "colab_type": "text"
      },
      "source": [
        "<a href=\"https://colab.research.google.com/github/ImAli0/ImAli/blob/main/week13/week13_2.ipynb\" target=\"_parent\"><img src=\"https://colab.research.google.com/assets/colab-badge.svg\" alt=\"Open In Colab\"/></a>"
      ]
    },
    {
      "cell_type": "code",
      "execution_count": 1,
      "metadata": {
        "colab": {
          "base_uri": "https://localhost:8080/"
        },
        "id": "4BTLItM1IwtO",
        "outputId": "12563288-c9eb-4bbd-ea86-240f2b329bd4"
      },
      "outputs": [
        {
          "output_type": "stream",
          "name": "stdout",
          "text": [
            "  % Total    % Received % Xferd  Average Speed   Time    Time     Time  Current\n",
            "                                 Dload  Upload   Total   Spent    Left  Speed\n",
            "100 80.2M  100 80.2M    0     0  9920k      0  0:00:08  0:00:08 --:--:-- 16.8M\n"
          ]
        }
      ],
      "source": [
        "!curl -O https://ai.stanford.edu/~amaas/data/sentiment/aclImdb_v1.tar.gz\n",
        "!tar -xf aclImdb_v1.tar.gz\n",
        "!rm -r aclImdb/train/unsup"
      ]
    },
    {
      "cell_type": "code",
      "execution_count": 2,
      "metadata": {
        "colab": {
          "base_uri": "https://localhost:8080/"
        },
        "id": "8BHJKfL5Urj8",
        "outputId": "8f045130-bc00-4269-e9e9-b15605246180"
      },
      "outputs": [
        {
          "output_type": "stream",
          "name": "stdout",
          "text": [
            "Found 20000 files belonging to 2 classes.\n",
            "Found 5000 files belonging to 2 classes.\n",
            "Found 25000 files belonging to 2 classes.\n"
          ]
        }
      ],
      "source": [
        "import os, pathlib, shutil, random\n",
        "from tensorflow import keras\n",
        "batch_size = 32\n",
        "base_dir = pathlib.Path(\"/content/aclImdb\") \n",
        "val_dir = base_dir / \"/content/aclImdb/val\" \n",
        "train_dir =base_dir / \"/content/aclImdb/train\" \n",
        "for category in (\"neg\", \"pos\"):\n",
        "  os.makedirs (val_dir / category)\n",
        "  files = os.listdir(train_dir / category) \n",
        "  random. Random (1337). shuffle (files) \n",
        "  num_val_samples = int(0.2*len(files)) \n",
        "  val_files = files[-num_val_samples:]\n",
        "  for fname in val_files:\n",
        "    shutil.move(train_dir / category / fname, val_dir/category/ fname)\n",
        "   \n",
        "train_ds =keras.utils.text_dataset_from_directory(\"aclImdb/train\", batch_size=batch_size)\n",
        "val_ds = keras.utils.text_dataset_from_directory( \"aclImdb/val\", batch_size=batch_size)\n",
        "\n",
        "test_ds = keras.utils.text_dataset_from_directory( \"aclImdb/test\", batch_size=batch_size)\n",
        "text_only_train_ds = train_ds.map(lambda x, y: x)"
      ]
    },
    {
      "cell_type": "code",
      "execution_count": 3,
      "metadata": {
        "id": "kGafNwg9UjeP"
      },
      "outputs": [],
      "source": [
        "# Preparing integer sequence datasets\n",
        "from tensorflow.keras import layers\n",
        "\n",
        "max_length=600\n",
        "max_tokens=20000\n",
        "text_vectorization=layers.TextVectorization(max_tokens=max_tokens, output_mode='int',\n",
        "                                            output_sequence_length=max_length,)\n",
        "text_vectorization.adapt(text_only_train_ds)\n",
        "\n",
        "int_train_ds=train_ds.map(\n",
        "    lambda x, y: (text_vectorization(x), y), \n",
        "    num_parallel_calls=4)\n",
        "\n",
        "int_val_ds=val_ds.map(\n",
        "    lambda x,y: (text_vectorization(x), y),\n",
        "    num_parallel_calls=4)\n",
        "int_test_ds=test_ds.map(\n",
        "    lambda x,y:(text_vectorization(x), y),\n",
        "    num_parallel_calls=4\n",
        ")\n"
      ]
    },
    {
      "cell_type": "code",
      "execution_count": 4,
      "metadata": {
        "colab": {
          "base_uri": "https://localhost:8080/"
        },
        "id": "ZjRzwN0kPRsf",
        "outputId": "b12295ac-f7df-43ae-dd16-1ef0ca89cc6b"
      },
      "outputs": [
        {
          "output_type": "stream",
          "name": "stdout",
          "text": [
            "Model: \"model\"\n",
            "_________________________________________________________________\n",
            " Layer (type)                Output Shape              Param #   \n",
            "=================================================================\n",
            " input_1 (InputLayer)        [(None, None)]            0         \n",
            "                                                                 \n",
            " tf.one_hot (TFOpLambda)     (None, None, 20000)       0         \n",
            "                                                                 \n",
            " bidirectional (Bidirectiona  (None, 64)               5128448   \n",
            " l)                                                              \n",
            "                                                                 \n",
            " dropout (Dropout)           (None, 64)                0         \n",
            "                                                                 \n",
            " dense (Dense)               (None, 1)                 65        \n",
            "                                                                 \n",
            "=================================================================\n",
            "Total params: 5,128,513\n",
            "Trainable params: 5,128,513\n",
            "Non-trainable params: 0\n",
            "_________________________________________________________________\n"
          ]
        }
      ],
      "source": [
        "# A sequence model built on one-hot encoded vector sequences\n",
        "\n",
        "import tensorflow as tf\n",
        "inputs = keras.Input(shape=(None, ), dtype='int64')\n",
        "embedded = tf.one_hot(inputs, depth=max_tokens)\n",
        "x=layers.Bidirectional(layers.LSTM(32))(embedded)\n",
        "x=layers.Dropout(0.5)(x)\n",
        "outputs=layers.Dense(1, activation='sigmoid')(x)\n",
        "model=keras.Model(inputs, outputs)\n",
        "model.compile(optimizer='rmsprop', loss='binary_crossentropy', metrics=['accuracy'])\n",
        "model.summary()"
      ]
    },
    {
      "cell_type": "code",
      "execution_count": 6,
      "metadata": {
        "colab": {
          "base_uri": "https://localhost:8080/"
        },
        "id": "eYftnxtqRnKF",
        "outputId": "951be8f1-b99a-4b95-b420-02173c6d3d2d"
      },
      "outputs": [
        {
          "output_type": "stream",
          "name": "stdout",
          "text": [
            "Epoch 1/10\n",
            "625/625 [==============================] - 166s 266ms/step - loss: 0.0834 - accuracy: 0.9739 - val_loss: 0.4263 - val_accuracy: 0.8692\n",
            "Epoch 2/10\n",
            "625/625 [==============================] - 169s 270ms/step - loss: 0.0732 - accuracy: 0.9781 - val_loss: 0.4967 - val_accuracy: 0.8766\n",
            "Epoch 3/10\n",
            "625/625 [==============================] - 169s 270ms/step - loss: 0.0560 - accuracy: 0.9834 - val_loss: 0.4709 - val_accuracy: 0.8674\n",
            "Epoch 4/10\n",
            "625/625 [==============================] - 168s 268ms/step - loss: 0.0548 - accuracy: 0.9849 - val_loss: 0.4625 - val_accuracy: 0.8672\n",
            "Epoch 5/10\n",
            "625/625 [==============================] - 168s 269ms/step - loss: 0.0468 - accuracy: 0.9875 - val_loss: 0.5569 - val_accuracy: 0.8652\n",
            "Epoch 6/10\n",
            "625/625 [==============================] - 168s 268ms/step - loss: 0.0353 - accuracy: 0.9912 - val_loss: 0.5991 - val_accuracy: 0.8678\n",
            "Epoch 7/10\n",
            "625/625 [==============================] - 168s 269ms/step - loss: 0.0301 - accuracy: 0.9921 - val_loss: 0.6099 - val_accuracy: 0.8702\n",
            "Epoch 8/10\n",
            "625/625 [==============================] - 166s 266ms/step - loss: 0.0308 - accuracy: 0.9923 - val_loss: 0.5721 - val_accuracy: 0.8412\n",
            "Epoch 9/10\n",
            "625/625 [==============================] - 166s 265ms/step - loss: 0.0195 - accuracy: 0.9948 - val_loss: 0.7263 - val_accuracy: 0.8356\n",
            "Epoch 10/10\n",
            "625/625 [==============================] - 166s 265ms/step - loss: 0.0213 - accuracy: 0.9947 - val_loss: 0.6271 - val_accuracy: 0.8526\n",
            "782/782 [==============================] - 102s 129ms/step - loss: 0.4992 - accuracy: 0.8526\n",
            "Test acc: 0.853\n"
          ]
        }
      ],
      "source": [
        "# Training a first basic sequence model\n",
        "\n",
        "callbacks=[keras.callbacks.ModelCheckpoint('one_hot_bidir_lstm.keras', \n",
        "                                           save_best_only=True)\n",
        "]\n",
        "model.fit(int_train_ds, validation_data=int_val_ds, epochs=10, callbacks=callbacks)\n",
        "model=keras.models.load_model('one_hot_bidir_lstm.keras')\n",
        "print(f'Test acc: {model.evaluate(int_test_ds)[1]:.3f}')\n",
        "\n",
        "                                    "
      ]
    },
    {
      "cell_type": "code",
      "execution_count": 7,
      "metadata": {
        "id": "aGFZIfKDMLna",
        "colab": {
          "base_uri": "https://localhost:8080/"
        },
        "outputId": "57a438b2-d6c2-48a5-f7b2-476a97a809a5"
      },
      "outputs": [
        {
          "output_type": "stream",
          "name": "stdout",
          "text": [
            "--2022-11-24 03:02:04--  http://nlp.stanford.edu/data/glove.6B.zip\n",
            "Resolving nlp.stanford.edu (nlp.stanford.edu)... 171.64.67.140\n",
            "Connecting to nlp.stanford.edu (nlp.stanford.edu)|171.64.67.140|:80... connected.\n",
            "HTTP request sent, awaiting response... 302 Found\n",
            "Location: https://nlp.stanford.edu/data/glove.6B.zip [following]\n",
            "--2022-11-24 03:02:05--  https://nlp.stanford.edu/data/glove.6B.zip\n",
            "Connecting to nlp.stanford.edu (nlp.stanford.edu)|171.64.67.140|:443... connected.\n",
            "HTTP request sent, awaiting response... 301 Moved Permanently\n",
            "Location: https://downloads.cs.stanford.edu/nlp/data/glove.6B.zip [following]\n",
            "--2022-11-24 03:02:05--  https://downloads.cs.stanford.edu/nlp/data/glove.6B.zip\n",
            "Resolving downloads.cs.stanford.edu (downloads.cs.stanford.edu)... 171.64.64.22\n",
            "Connecting to downloads.cs.stanford.edu (downloads.cs.stanford.edu)|171.64.64.22|:443... connected.\n",
            "HTTP request sent, awaiting response... 200 OK\n",
            "Length: 862182613 (822M) [application/zip]\n",
            "Saving to: ‘glove.6B.zip’\n",
            "\n",
            "glove.6B.zip        100%[===================>] 822.24M  5.05MB/s    in 2m 39s  \n",
            "\n",
            "2022-11-24 03:04:45 (5.17 MB/s) - ‘glove.6B.zip’ saved [862182613/862182613]\n",
            "\n"
          ]
        }
      ],
      "source": [
        "!wget http://nlp.stanford.edu/data/glove.6B.zip\n",
        "!unzip -q glove.6B.zip"
      ]
    },
    {
      "cell_type": "code",
      "execution_count": 9,
      "metadata": {
        "id": "usVPcCqwJOHQ",
        "colab": {
          "base_uri": "https://localhost:8080/"
        },
        "outputId": "acd78d92-140a-4e37-8c09-9fd69771fca2"
      },
      "outputs": [
        {
          "output_type": "stream",
          "name": "stdout",
          "text": [
            "Found 400000 word vectors.\n"
          ]
        }
      ],
      "source": [
        "# Parsing the Glove word-embeddings file\n",
        "import numpy as np\n",
        "path_to_glove_file=\"glove.6B.100d.txt\"\n",
        "\n",
        "embeddings_index={}\n",
        "with open(path_to_glove_file) as f:\n",
        "  for line in f:\n",
        "    word, coefs=line.split(maxsplit=1)\n",
        "    coefs=np.fromstring(coefs, \"f\" , sep=' ')\n",
        "    embeddings_index[word]=coefs\n",
        "\n",
        "print(f'Found {len(embeddings_index)} word vectors.')"
      ]
    },
    {
      "cell_type": "code",
      "execution_count": 12,
      "metadata": {
        "id": "qt_zEmd7KJOz"
      },
      "outputs": [],
      "source": [
        "# Preparing the GloVe word-embeddings matrix"
      ]
    },
    {
      "cell_type": "code",
      "execution_count": 11,
      "metadata": {
        "id": "DTTTORElKQ3J"
      },
      "outputs": [],
      "source": [
        "embedding_dim=100\n",
        "\n",
        "vocabulary=text_vectorization.get_vocabulary()\n",
        "word_index=dict(zip(vocabulary, range(len(vocabulary))))\n",
        "\n",
        "embedding_matrix = np.zeros((max_tokens, embedding_dim))\n",
        "for word, i in word_index.items():\n",
        "  if i<max_tokens:\n",
        "    embedding_vector=embeddings_index.get(word)\n",
        "  if embedding_vector is not None:\n",
        "    embedding_matrix[i]=embedding_vector"
      ]
    },
    {
      "cell_type": "code",
      "execution_count": 13,
      "metadata": {
        "id": "iqTfLT2iLPRX"
      },
      "outputs": [],
      "source": [
        "embedding_layer=layers.Embedding(\n",
        "    max_tokens, \n",
        "    embedding_dim, \n",
        "    embeddings_initializer=keras.initializers.Constant(embedding_matrix), \n",
        "    trainable=False, mask_zero=True)"
      ]
    },
    {
      "cell_type": "code",
      "execution_count": null,
      "metadata": {
        "id": "hgrhkhQBL2y-"
      },
      "outputs": [],
      "source": []
    }
  ],
  "metadata": {
    "accelerator": "GPU",
    "colab": {
      "provenance": [],
      "authorship_tag": "ABX9TyOgarzr2MN7CzYdTdPjcU+z",
      "include_colab_link": true
    },
    "gpuClass": "standard",
    "kernelspec": {
      "display_name": "Python 3",
      "name": "python3"
    },
    "language_info": {
      "name": "python"
    }
  },
  "nbformat": 4,
  "nbformat_minor": 0
}