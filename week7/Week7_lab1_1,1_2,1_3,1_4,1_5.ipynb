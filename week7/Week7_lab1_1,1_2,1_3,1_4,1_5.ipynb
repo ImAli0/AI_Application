{
  "nbformat": 4,
  "nbformat_minor": 0,
  "metadata": {
    "colab": {
      "provenance": [],
      "collapsed_sections": [],
      "authorship_tag": "ABX9TyMsCV6tZOXuMEGzgjNaKwhP",
      "include_colab_link": true
    },
    "kernelspec": {
      "name": "python3",
      "display_name": "Python 3"
    },
    "language_info": {
      "name": "python"
    },
    "widgets": {
      "application/vnd.jupyter.widget-state+json": {
        "27e4ee136f22428c8f481c6fca91bfa9": {
          "model_module": "@jupyter-widgets/controls",
          "model_name": "HBoxModel",
          "model_module_version": "1.5.0",
          "state": {
            "_dom_classes": [],
            "_model_module": "@jupyter-widgets/controls",
            "_model_module_version": "1.5.0",
            "_model_name": "HBoxModel",
            "_view_count": null,
            "_view_module": "@jupyter-widgets/controls",
            "_view_module_version": "1.5.0",
            "_view_name": "HBoxView",
            "box_style": "",
            "children": [
              "IPY_MODEL_4cf3360f28174ec685edc882714aa297",
              "IPY_MODEL_fc51fd42eefb4c0c878db845a1c80930",
              "IPY_MODEL_9f1e1c9734234645a3e36c393afcb450"
            ],
            "layout": "IPY_MODEL_ca436b79b0ec4b35b7ce1564b1e66be2"
          }
        },
        "4cf3360f28174ec685edc882714aa297": {
          "model_module": "@jupyter-widgets/controls",
          "model_name": "HTMLModel",
          "model_module_version": "1.5.0",
          "state": {
            "_dom_classes": [],
            "_model_module": "@jupyter-widgets/controls",
            "_model_module_version": "1.5.0",
            "_model_name": "HTMLModel",
            "_view_count": null,
            "_view_module": "@jupyter-widgets/controls",
            "_view_module_version": "1.5.0",
            "_view_name": "HTMLView",
            "description": "",
            "description_tooltip": null,
            "layout": "IPY_MODEL_d632295c8d454865a2675d749791bbef",
            "placeholder": "​",
            "style": "IPY_MODEL_80e3b8db39b849959f0af636b28e450a",
            "value": "100%"
          }
        },
        "fc51fd42eefb4c0c878db845a1c80930": {
          "model_module": "@jupyter-widgets/controls",
          "model_name": "FloatProgressModel",
          "model_module_version": "1.5.0",
          "state": {
            "_dom_classes": [],
            "_model_module": "@jupyter-widgets/controls",
            "_model_module_version": "1.5.0",
            "_model_name": "FloatProgressModel",
            "_view_count": null,
            "_view_module": "@jupyter-widgets/controls",
            "_view_module_version": "1.5.0",
            "_view_name": "ProgressView",
            "bar_style": "success",
            "description": "",
            "description_tooltip": null,
            "layout": "IPY_MODEL_82fbc83bed1c4d899cd2c903c7abbd6a",
            "max": 170498071,
            "min": 0,
            "orientation": "horizontal",
            "style": "IPY_MODEL_e0eb9c86834643c1a75dc68e2e0a09a0",
            "value": 170498071
          }
        },
        "9f1e1c9734234645a3e36c393afcb450": {
          "model_module": "@jupyter-widgets/controls",
          "model_name": "HTMLModel",
          "model_module_version": "1.5.0",
          "state": {
            "_dom_classes": [],
            "_model_module": "@jupyter-widgets/controls",
            "_model_module_version": "1.5.0",
            "_model_name": "HTMLModel",
            "_view_count": null,
            "_view_module": "@jupyter-widgets/controls",
            "_view_module_version": "1.5.0",
            "_view_name": "HTMLView",
            "description": "",
            "description_tooltip": null,
            "layout": "IPY_MODEL_40191824f3764a37ae86574f243d300b",
            "placeholder": "​",
            "style": "IPY_MODEL_314e11c5397b4641bd2484284a88004c",
            "value": " 170498071/170498071 [00:13&lt;00:00, 13937564.40it/s]"
          }
        },
        "ca436b79b0ec4b35b7ce1564b1e66be2": {
          "model_module": "@jupyter-widgets/base",
          "model_name": "LayoutModel",
          "model_module_version": "1.2.0",
          "state": {
            "_model_module": "@jupyter-widgets/base",
            "_model_module_version": "1.2.0",
            "_model_name": "LayoutModel",
            "_view_count": null,
            "_view_module": "@jupyter-widgets/base",
            "_view_module_version": "1.2.0",
            "_view_name": "LayoutView",
            "align_content": null,
            "align_items": null,
            "align_self": null,
            "border": null,
            "bottom": null,
            "display": null,
            "flex": null,
            "flex_flow": null,
            "grid_area": null,
            "grid_auto_columns": null,
            "grid_auto_flow": null,
            "grid_auto_rows": null,
            "grid_column": null,
            "grid_gap": null,
            "grid_row": null,
            "grid_template_areas": null,
            "grid_template_columns": null,
            "grid_template_rows": null,
            "height": null,
            "justify_content": null,
            "justify_items": null,
            "left": null,
            "margin": null,
            "max_height": null,
            "max_width": null,
            "min_height": null,
            "min_width": null,
            "object_fit": null,
            "object_position": null,
            "order": null,
            "overflow": null,
            "overflow_x": null,
            "overflow_y": null,
            "padding": null,
            "right": null,
            "top": null,
            "visibility": null,
            "width": null
          }
        },
        "d632295c8d454865a2675d749791bbef": {
          "model_module": "@jupyter-widgets/base",
          "model_name": "LayoutModel",
          "model_module_version": "1.2.0",
          "state": {
            "_model_module": "@jupyter-widgets/base",
            "_model_module_version": "1.2.0",
            "_model_name": "LayoutModel",
            "_view_count": null,
            "_view_module": "@jupyter-widgets/base",
            "_view_module_version": "1.2.0",
            "_view_name": "LayoutView",
            "align_content": null,
            "align_items": null,
            "align_self": null,
            "border": null,
            "bottom": null,
            "display": null,
            "flex": null,
            "flex_flow": null,
            "grid_area": null,
            "grid_auto_columns": null,
            "grid_auto_flow": null,
            "grid_auto_rows": null,
            "grid_column": null,
            "grid_gap": null,
            "grid_row": null,
            "grid_template_areas": null,
            "grid_template_columns": null,
            "grid_template_rows": null,
            "height": null,
            "justify_content": null,
            "justify_items": null,
            "left": null,
            "margin": null,
            "max_height": null,
            "max_width": null,
            "min_height": null,
            "min_width": null,
            "object_fit": null,
            "object_position": null,
            "order": null,
            "overflow": null,
            "overflow_x": null,
            "overflow_y": null,
            "padding": null,
            "right": null,
            "top": null,
            "visibility": null,
            "width": null
          }
        },
        "80e3b8db39b849959f0af636b28e450a": {
          "model_module": "@jupyter-widgets/controls",
          "model_name": "DescriptionStyleModel",
          "model_module_version": "1.5.0",
          "state": {
            "_model_module": "@jupyter-widgets/controls",
            "_model_module_version": "1.5.0",
            "_model_name": "DescriptionStyleModel",
            "_view_count": null,
            "_view_module": "@jupyter-widgets/base",
            "_view_module_version": "1.2.0",
            "_view_name": "StyleView",
            "description_width": ""
          }
        },
        "82fbc83bed1c4d899cd2c903c7abbd6a": {
          "model_module": "@jupyter-widgets/base",
          "model_name": "LayoutModel",
          "model_module_version": "1.2.0",
          "state": {
            "_model_module": "@jupyter-widgets/base",
            "_model_module_version": "1.2.0",
            "_model_name": "LayoutModel",
            "_view_count": null,
            "_view_module": "@jupyter-widgets/base",
            "_view_module_version": "1.2.0",
            "_view_name": "LayoutView",
            "align_content": null,
            "align_items": null,
            "align_self": null,
            "border": null,
            "bottom": null,
            "display": null,
            "flex": null,
            "flex_flow": null,
            "grid_area": null,
            "grid_auto_columns": null,
            "grid_auto_flow": null,
            "grid_auto_rows": null,
            "grid_column": null,
            "grid_gap": null,
            "grid_row": null,
            "grid_template_areas": null,
            "grid_template_columns": null,
            "grid_template_rows": null,
            "height": null,
            "justify_content": null,
            "justify_items": null,
            "left": null,
            "margin": null,
            "max_height": null,
            "max_width": null,
            "min_height": null,
            "min_width": null,
            "object_fit": null,
            "object_position": null,
            "order": null,
            "overflow": null,
            "overflow_x": null,
            "overflow_y": null,
            "padding": null,
            "right": null,
            "top": null,
            "visibility": null,
            "width": null
          }
        },
        "e0eb9c86834643c1a75dc68e2e0a09a0": {
          "model_module": "@jupyter-widgets/controls",
          "model_name": "ProgressStyleModel",
          "model_module_version": "1.5.0",
          "state": {
            "_model_module": "@jupyter-widgets/controls",
            "_model_module_version": "1.5.0",
            "_model_name": "ProgressStyleModel",
            "_view_count": null,
            "_view_module": "@jupyter-widgets/base",
            "_view_module_version": "1.2.0",
            "_view_name": "StyleView",
            "bar_color": null,
            "description_width": ""
          }
        },
        "40191824f3764a37ae86574f243d300b": {
          "model_module": "@jupyter-widgets/base",
          "model_name": "LayoutModel",
          "model_module_version": "1.2.0",
          "state": {
            "_model_module": "@jupyter-widgets/base",
            "_model_module_version": "1.2.0",
            "_model_name": "LayoutModel",
            "_view_count": null,
            "_view_module": "@jupyter-widgets/base",
            "_view_module_version": "1.2.0",
            "_view_name": "LayoutView",
            "align_content": null,
            "align_items": null,
            "align_self": null,
            "border": null,
            "bottom": null,
            "display": null,
            "flex": null,
            "flex_flow": null,
            "grid_area": null,
            "grid_auto_columns": null,
            "grid_auto_flow": null,
            "grid_auto_rows": null,
            "grid_column": null,
            "grid_gap": null,
            "grid_row": null,
            "grid_template_areas": null,
            "grid_template_columns": null,
            "grid_template_rows": null,
            "height": null,
            "justify_content": null,
            "justify_items": null,
            "left": null,
            "margin": null,
            "max_height": null,
            "max_width": null,
            "min_height": null,
            "min_width": null,
            "object_fit": null,
            "object_position": null,
            "order": null,
            "overflow": null,
            "overflow_x": null,
            "overflow_y": null,
            "padding": null,
            "right": null,
            "top": null,
            "visibility": null,
            "width": null
          }
        },
        "314e11c5397b4641bd2484284a88004c": {
          "model_module": "@jupyter-widgets/controls",
          "model_name": "DescriptionStyleModel",
          "model_module_version": "1.5.0",
          "state": {
            "_model_module": "@jupyter-widgets/controls",
            "_model_module_version": "1.5.0",
            "_model_name": "DescriptionStyleModel",
            "_view_count": null,
            "_view_module": "@jupyter-widgets/base",
            "_view_module_version": "1.2.0",
            "_view_name": "StyleView",
            "description_width": ""
          }
        }
      }
    },
    "accelerator": "GPU"
  },
  "cells": [
    {
      "cell_type": "markdown",
      "metadata": {
        "id": "view-in-github",
        "colab_type": "text"
      },
      "source": [
        "<a href=\"https://colab.research.google.com/github/ImAli0/ImAli/blob/main/week7/Week7_lab1_1%2C1_2%2C1_3%2C1_4%2C1_5.ipynb\" target=\"_parent\"><img src=\"https://colab.research.google.com/assets/colab-badge.svg\" alt=\"Open In Colab\"/></a>"
      ]
    },
    {
      "cell_type": "code",
      "execution_count": null,
      "metadata": {
        "colab": {
          "base_uri": "https://localhost:8080/",
          "height": 191,
          "referenced_widgets": [
            "27e4ee136f22428c8f481c6fca91bfa9",
            "4cf3360f28174ec685edc882714aa297",
            "fc51fd42eefb4c0c878db845a1c80930",
            "9f1e1c9734234645a3e36c393afcb450",
            "ca436b79b0ec4b35b7ce1564b1e66be2",
            "d632295c8d454865a2675d749791bbef",
            "80e3b8db39b849959f0af636b28e450a",
            "82fbc83bed1c4d899cd2c903c7abbd6a",
            "e0eb9c86834643c1a75dc68e2e0a09a0",
            "40191824f3764a37ae86574f243d300b",
            "314e11c5397b4641bd2484284a88004c"
          ]
        },
        "id": "7aZVl-gn9oIo",
        "outputId": "812f21a3-3950-4492-f205-35e14e7d5516"
      },
      "outputs": [
        {
          "output_type": "stream",
          "name": "stdout",
          "text": [
            "Downloading https://www.cs.toronto.edu/~kriz/cifar-10-python.tar.gz to ./pt_data/cifar-10-python.tar.gz\n"
          ]
        },
        {
          "output_type": "display_data",
          "data": {
            "text/plain": [
              "  0%|          | 0/170498071 [00:00<?, ?it/s]"
            ],
            "application/vnd.jupyter.widget-view+json": {
              "version_major": 2,
              "version_minor": 0,
              "model_id": "27e4ee136f22428c8f481c6fca91bfa9"
            }
          },
          "metadata": {}
        },
        {
          "output_type": "stream",
          "name": "stdout",
          "text": [
            "Extracting ./pt_data/cifar-10-python.tar.gz to ./pt_data\n",
            "Category:  8\n"
          ]
        },
        {
          "output_type": "display_data",
          "data": {
            "text/plain": [
              "<Figure size 72x72 with 1 Axes>"
            ],
            "image/png": "[encoded data removed]"
          },
          "metadata": {
            "needs_background": "light"
          }
        }
      ],
      "source": [
        "import torchvision \n",
        "import torchvision.transforms as transforms \n",
        "from torchvision.datasets import CIFAR10 \n",
        "from torch.utils.data import DataLoader \n",
        "import numpy as np \n",
        "import matplotlib.pyplot as plt\n",
        "\n",
        "# Load training dataset into a single batch. \n",
        "transform = transforms.Compose([transforms.ToTensor()]) \n",
        "trainset = CIFAR10(root='./pt_data', train=True, download=True, transform=transform) \n",
        "trainloader = DataLoader(trainset, batch_size=len(trainset), shuffle=False) \n",
        "data = next(iter(trainloader)) \n",
        "# Convert to numpy arrays of correct shape for plotting. \n",
        "train_images = data[0].numpy() \n",
        "train_images = np.moveaxis(train_images, 1, 3) \n",
        "train_labels = data[1].numpy()\n",
        "\n",
        "print('Category: ', train_labels[100]) \n",
        "plt.figure(figsize=(1, 1)) \n",
        "plt.imshow(train_images[100]) \n",
        "plt.show() \n"
      ]
    },
    {
      "cell_type": "code",
      "source": [
        "!pip install requests"
      ],
      "metadata": {
        "colab": {
          "base_uri": "https://localhost:8080/"
        },
        "id": "2GAkJnOzCK2v",
        "outputId": "02aa9f26-c9c4-4fb3-f4b9-6902515b3574"
      },
      "execution_count": 23,
      "outputs": [
        {
          "output_type": "stream",
          "name": "stdout",
          "text": [
            "Looking in indexes: https://pypi.org/simple, https://us-python.pkg.dev/colab-wheels/public/simple/\n",
            "Requirement already satisfied: requests in /usr/local/lib/python3.7/dist-packages (2.23.0)\n",
            "Requirement already satisfied: certifi>=2017.4.17 in /usr/local/lib/python3.7/dist-packages (from requests) (2022.9.24)\n",
            "Requirement already satisfied: idna<3,>=2.5 in /usr/local/lib/python3.7/dist-packages (from requests) (2.10)\n",
            "Requirement already satisfied: chardet<4,>=3.0.2 in /usr/local/lib/python3.7/dist-packages (from requests) (3.0.4)\n",
            "Requirement already satisfied: urllib3!=1.25.0,!=1.25.1,<1.26,>=1.21.1 in /usr/local/lib/python3.7/dist-packages (from requests) (1.24.3)\n"
          ]
        }
      ]
    },
    {
      "cell_type": "code",
      "source": [
        "import requests \n",
        "url='https://raw.githubusercontent.com/NVDLI/LDL/main/pt_framework/utilities.py'\n",
        "r=requests.get(url)\n",
        "\n",
        "with open('utilities.py','w') as f:\n",
        "  f.write(r.text)"
      ],
      "metadata": {
        "id": "eYJYgrdI-fxd"
      },
      "execution_count": 39,
      "outputs": []
    },
    {
      "cell_type": "code",
      "source": [
        "  import torch \n",
        "  import torch.nn as nn \n",
        "  import torchvision \n",
        "  import torchvision.transforms as transforms \n",
        "  from torchvision.datasets import CIFAR10 \n",
        "  from torch.utils.data import DataLoader \n",
        "  import numpy as np \n",
        "  from utilities import train_model \n",
        "device = torch.device('cuda:0' if torch.cuda.is_available() else \"cpu\") \n",
        "EPOCHS = 30 \n",
        "BATCH_SIZE = 32 \n",
        "# Load training dataset into a single batch to compute mean and stddev. \n",
        "transform = transforms.Compose([transforms.ToTensor()]) \n",
        "trainset = CIFAR10(root='./pt_data', train=True, download=True, transform=transform) \n",
        "trainloader = DataLoader(trainset, batch_size=len(trainset), shuffle=False) \n",
        "data = next(iter(trainloader)) \n",
        "mean = data[0].mean() \n",
        "stddev = data[0].std() \n"
      ],
      "metadata": {
        "colab": {
          "base_uri": "https://localhost:8080/"
        },
        "id": "VPvQ5sgf87NS",
        "outputId": "315f81eb-ba68-408e-c41f-9221b0fa52a9"
      },
      "execution_count": 43,
      "outputs": [
        {
          "output_type": "stream",
          "name": "stdout",
          "text": [
            "Files already downloaded and verified\n"
          ]
        }
      ]
    },
    {
      "cell_type": "code",
      "source": [
        "transform=transforms.Compose( \n",
        "    [transforms.ToTensor(),\n",
        "     transforms.Normalize(mean,stddev)])\n",
        "\n",
        "trainset = CIFAR10(root='./pt_data', train=True, download=True,transform=transform) \n",
        "testset = CIFAR10(root='./pt_data', train=False, download=True,transform=transform)\n",
        "\n",
        "\n",
        "model = nn. Sequential(\n",
        "    nn.Conv2d(3, 64, 5, stride=2, padding=2),\n",
        "    nn.ReLU(),\n",
        "    nn. Conv2d(64, 64, 3, stride=2, padding=1),\n",
        "    nn.ReLU(),\n",
        "    nn.Flatten(),\n",
        "    nn.Linear (64*8*8, 10)\n",
        ")"
      ],
      "metadata": {
        "id": "pjx2hPtpB7BQ",
        "colab": {
          "base_uri": "https://localhost:8080/"
        },
        "outputId": "6b6359fe-0bb8-48b9-f0e5-8f6ada526f07"
      },
      "execution_count": 44,
      "outputs": [
        {
          "output_type": "stream",
          "name": "stdout",
          "text": [
            "Files already downloaded and verified\n",
            "Files already downloaded and verified\n"
          ]
        }
      ]
    },
    {
      "cell_type": "code",
      "source": [
        "layers = next (model.modules())\n",
        "conv_layer0=layers[0]\n",
        "\n",
        "conv_layer1=layers[2]\n",
        "\n",
        "output_layer=layers[5]\n",
        "\n",
        "\n",
        "nn.init.kaiming_normal_(conv_layer0.weight)\n",
        "\n",
        "nn.init.constant(conv_layer0.bias,0.0)\n",
        "\n",
        "nn.init.kaiming_normal_(conv_layer1.weight)\n",
        "\n",
        "nn.init.constant (conv_layer1.bias, 0.0)\n",
        "\n",
        "nn. init.xavier_uniform (output_layer.weight)\n",
        "\n",
        "nn.init.constant (output_layer.bias, 0.0)\n",
        "\n",
        "optimizer = torch.optim.Adam(model.parameters()) \n",
        "loss_function = nn.CrossEntropyLoss()\n",
        "\n",
        "train_model(model, device, EPOCHS, BATCH_SIZE, trainset, testset, optimizer, loss_function, 'acc')"
      ],
      "metadata": {
        "colab": {
          "base_uri": "https://localhost:8080/"
        },
        "id": "8JU8qIfSJ0b7",
        "outputId": "2ad18c9d-c082-4ae2-ce23-df790e0ed95f"
      },
      "execution_count": 45,
      "outputs": [
        {
          "output_type": "stream",
          "name": "stderr",
          "text": [
            "/usr/local/lib/python3.7/dist-packages/ipykernel_launcher.py:11: UserWarning: nn.init.constant is now deprecated in favor of nn.init.constant_.\n",
            "  # This is added back by InteractiveShellApp.init_path()\n",
            "/usr/local/lib/python3.7/dist-packages/ipykernel_launcher.py:15: UserWarning: nn.init.constant is now deprecated in favor of nn.init.constant_.\n",
            "  from ipykernel import kernelapp as app\n",
            "/usr/local/lib/python3.7/dist-packages/ipykernel_launcher.py:17: UserWarning: nn.init.xavier_uniform is now deprecated in favor of nn.init.xavier_uniform_.\n",
            "/usr/local/lib/python3.7/dist-packages/ipykernel_launcher.py:19: UserWarning: nn.init.constant is now deprecated in favor of nn.init.constant_.\n"
          ]
        },
        {
          "output_type": "stream",
          "name": "stdout",
          "text": [
            "Epoch 1/30 loss: 1.3900 - acc: 0.5088 - val_loss: 1.1553 - val_acc: 0.5939\n",
            "Epoch 2/30 loss: 1.0535 - acc: 0.6343 - val_loss: 1.0570 - val_acc: 0.6266\n",
            "Epoch 3/30 loss: 0.9152 - acc: 0.6814 - val_loss: 1.0236 - val_acc: 0.6447\n",
            "Epoch 4/30 loss: 0.8188 - acc: 0.7134 - val_loss: 1.0340 - val_acc: 0.6469\n",
            "Epoch 5/30 loss: 0.7371 - acc: 0.7416 - val_loss: 1.0433 - val_acc: 0.6500\n",
            "Epoch 6/30 loss: 0.6712 - acc: 0.7646 - val_loss: 1.0737 - val_acc: 0.6535\n",
            "Epoch 7/30 loss: 0.6135 - acc: 0.7851 - val_loss: 1.1314 - val_acc: 0.6481\n",
            "Epoch 8/30 loss: 0.5622 - acc: 0.8016 - val_loss: 1.1683 - val_acc: 0.6405\n",
            "Epoch 9/30 loss: 0.5123 - acc: 0.8197 - val_loss: 1.2911 - val_acc: 0.6336\n",
            "Epoch 10/30 loss: 0.4722 - acc: 0.8315 - val_loss: 1.3107 - val_acc: 0.6339\n",
            "Epoch 11/30 loss: 0.4312 - acc: 0.8470 - val_loss: 1.3815 - val_acc: 0.6358\n",
            "Epoch 12/30 loss: 0.4028 - acc: 0.8555 - val_loss: 1.4429 - val_acc: 0.6320\n",
            "Epoch 13/30 loss: 0.3675 - acc: 0.8668 - val_loss: 1.5789 - val_acc: 0.6206\n",
            "Epoch 14/30 loss: 0.3409 - acc: 0.8785 - val_loss: 1.5848 - val_acc: 0.6302\n",
            "Epoch 15/30 loss: 0.3147 - acc: 0.8861 - val_loss: 1.7252 - val_acc: 0.6257\n",
            "Epoch 16/30 loss: 0.2916 - acc: 0.8949 - val_loss: 1.8479 - val_acc: 0.6225\n",
            "Epoch 17/30 loss: 0.2764 - acc: 0.9009 - val_loss: 1.9017 - val_acc: 0.6159\n",
            "Epoch 18/30 loss: 0.2529 - acc: 0.9080 - val_loss: 2.0114 - val_acc: 0.6177\n",
            "Epoch 19/30 loss: 0.2411 - acc: 0.9129 - val_loss: 2.2130 - val_acc: 0.6039\n",
            "Epoch 20/30 loss: 0.2321 - acc: 0.9159 - val_loss: 2.2358 - val_acc: 0.6140\n",
            "Epoch 21/30 loss: 0.2187 - acc: 0.9208 - val_loss: 2.3420 - val_acc: 0.6194\n",
            "Epoch 22/30 loss: 0.2091 - acc: 0.9241 - val_loss: 2.4934 - val_acc: 0.6150\n",
            "Epoch 23/30 loss: 0.2033 - acc: 0.9272 - val_loss: 2.4703 - val_acc: 0.6121\n",
            "Epoch 24/30 loss: 0.1842 - acc: 0.9328 - val_loss: 2.6251 - val_acc: 0.6101\n",
            "Epoch 25/30 loss: 0.1858 - acc: 0.9340 - val_loss: 2.6902 - val_acc: 0.6122\n",
            "Epoch 26/30 loss: 0.1730 - acc: 0.9376 - val_loss: 2.8570 - val_acc: 0.6157\n",
            "Epoch 27/30 loss: 0.1765 - acc: 0.9358 - val_loss: 3.0270 - val_acc: 0.6092\n",
            "Epoch 28/30 loss: 0.1613 - acc: 0.9413 - val_loss: 3.0554 - val_acc: 0.6076\n",
            "Epoch 29/30 loss: 0.1579 - acc: 0.9430 - val_loss: 3.0555 - val_acc: 0.6089\n",
            "Epoch 30/30 loss: 0.1582 - acc: 0.9442 - val_loss: 3.2501 - val_acc: 0.6088\n"
          ]
        },
        {
          "output_type": "execute_result",
          "data": {
            "text/plain": [
              "[0.9441778630838131, 0.6088258785942492]"
            ]
          },
          "metadata": {},
          "execution_count": 45
        }
      ]
    },
    {
      "cell_type": "code",
      "source": [],
      "metadata": {
        "id": "GdK0t3WpJ6hb"
      },
      "execution_count": null,
      "outputs": []
    }
  ]
}