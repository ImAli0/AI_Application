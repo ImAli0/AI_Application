{
  "nbformat": 4,
  "nbformat_minor": 0,
  "metadata": {
    "colab": {
      "provenance": [],
      "collapsed_sections": [],
      "authorship_tag": "ABX9TyPmOUwit7PLeI3LyFZvbZHw",
      "include_colab_link": true
    },
    "kernelspec": {
      "name": "python3",
      "display_name": "Python 3"
    },
    "language_info": {
      "name": "python"
    },
    "widgets": {
      "application/vnd.jupyter.widget-state+json": {
        "27e4ee136f22428c8f481c6fca91bfa9": {
          "model_module": "@jupyter-widgets/controls",
          "model_name": "HBoxModel",
          "model_module_version": "1.5.0",
          "state": {
            "_dom_classes": [],
            "_model_module": "@jupyter-widgets/controls",
            "_model_module_version": "1.5.0",
            "_model_name": "HBoxModel",
            "_view_count": null,
            "_view_module": "@jupyter-widgets/controls",
            "_view_module_version": "1.5.0",
            "_view_name": "HBoxView",
            "box_style": "",
            "children": [
              "IPY_MODEL_4cf3360f28174ec685edc882714aa297",
              "IPY_MODEL_fc51fd42eefb4c0c878db845a1c80930",
              "IPY_MODEL_9f1e1c9734234645a3e36c393afcb450"
            ],
            "layout": "IPY_MODEL_ca436b79b0ec4b35b7ce1564b1e66be2"
          }
        },
        "4cf3360f28174ec685edc882714aa297": {
          "model_module": "@jupyter-widgets/controls",
          "model_name": "HTMLModel",
          "model_module_version": "1.5.0",
          "state": {
            "_dom_classes": [],
            "_model_module": "@jupyter-widgets/controls",
            "_model_module_version": "1.5.0",
            "_model_name": "HTMLModel",
            "_view_count": null,
            "_view_module": "@jupyter-widgets/controls",
            "_view_module_version": "1.5.0",
            "_view_name": "HTMLView",
            "description": "",
            "description_tooltip": null,
            "layout": "IPY_MODEL_d632295c8d454865a2675d749791bbef",
            "placeholder": "​",
            "style": "IPY_MODEL_80e3b8db39b849959f0af636b28e450a",
            "value": "100%"
          }
        },
        "fc51fd42eefb4c0c878db845a1c80930": {
          "model_module": "@jupyter-widgets/controls",
          "model_name": "FloatProgressModel",
          "model_module_version": "1.5.0",
          "state": {
            "_dom_classes": [],
            "_model_module": "@jupyter-widgets/controls",
            "_model_module_version": "1.5.0",
            "_model_name": "FloatProgressModel",
            "_view_count": null,
            "_view_module": "@jupyter-widgets/controls",
            "_view_module_version": "1.5.0",
            "_view_name": "ProgressView",
            "bar_style": "success",
            "description": "",
            "description_tooltip": null,
            "layout": "IPY_MODEL_82fbc83bed1c4d899cd2c903c7abbd6a",
            "max": 170498071,
            "min": 0,
            "orientation": "horizontal",
            "style": "IPY_MODEL_e0eb9c86834643c1a75dc68e2e0a09a0",
            "value": 170498071
          }
        },
        "9f1e1c9734234645a3e36c393afcb450": {
          "model_module": "@jupyter-widgets/controls",
          "model_name": "HTMLModel",
          "model_module_version": "1.5.0",
          "state": {
            "_dom_classes": [],
            "_model_module": "@jupyter-widgets/controls",
            "_model_module_version": "1.5.0",
            "_model_name": "HTMLModel",
            "_view_count": null,
            "_view_module": "@jupyter-widgets/controls",
            "_view_module_version": "1.5.0",
            "_view_name": "HTMLView",
            "description": "",
            "description_tooltip": null,
            "layout": "IPY_MODEL_40191824f3764a37ae86574f243d300b",
            "placeholder": "​",
            "style": "IPY_MODEL_314e11c5397b4641bd2484284a88004c",
            "value": " 170498071/170498071 [00:13&lt;00:00, 13937564.40it/s]"
          }
        },
        "ca436b79b0ec4b35b7ce1564b1e66be2": {
          "model_module": "@jupyter-widgets/base",
          "model_name": "LayoutModel",
          "model_module_version": "1.2.0",
          "state": {
            "_model_module": "@jupyter-widgets/base",
            "_model_module_version": "1.2.0",
            "_model_name": "LayoutModel",
            "_view_count": null,
            "_view_module": "@jupyter-widgets/base",
            "_view_module_version": "1.2.0",
            "_view_name": "LayoutView",
            "align_content": null,
            "align_items": null,
            "align_self": null,
            "border": null,
            "bottom": null,
            "display": null,
            "flex": null,
            "flex_flow": null,
            "grid_area": null,
            "grid_auto_columns": null,
            "grid_auto_flow": null,
            "grid_auto_rows": null,
            "grid_column": null,
            "grid_gap": null,
            "grid_row": null,
            "grid_template_areas": null,
            "grid_template_columns": null,
            "grid_template_rows": null,
            "height": null,
            "justify_content": null,
            "justify_items": null,
            "left": null,
            "margin": null,
            "max_height": null,
            "max_width": null,
            "min_height": null,
            "min_width": null,
            "object_fit": null,
            "object_position": null,
            "order": null,
            "overflow": null,
            "overflow_x": null,
            "overflow_y": null,
            "padding": null,
            "right": null,
            "top": null,
            "visibility": null,
            "width": null
          }
        },
        "d632295c8d454865a2675d749791bbef": {
          "model_module": "@jupyter-widgets/base",
          "model_name": "LayoutModel",
          "model_module_version": "1.2.0",
          "state": {
            "_model_module": "@jupyter-widgets/base",
            "_model_module_version": "1.2.0",
            "_model_name": "LayoutModel",
            "_view_count": null,
            "_view_module": "@jupyter-widgets/base",
            "_view_module_version": "1.2.0",
            "_view_name": "LayoutView",
            "align_content": null,
            "align_items": null,
            "align_self": null,
            "border": null,
            "bottom": null,
            "display": null,
            "flex": null,
            "flex_flow": null,
            "grid_area": null,
            "grid_auto_columns": null,
            "grid_auto_flow": null,
            "grid_auto_rows": null,
            "grid_column": null,
            "grid_gap": null,
            "grid_row": null,
            "grid_template_areas": null,
            "grid_template_columns": null,
            "grid_template_rows": null,
            "height": null,
            "justify_content": null,
            "justify_items": null,
            "left": null,
            "margin": null,
            "max_height": null,
            "max_width": null,
            "min_height": null,
            "min_width": null,
            "object_fit": null,
            "object_position": null,
            "order": null,
            "overflow": null,
            "overflow_x": null,
            "overflow_y": null,
            "padding": null,
            "right": null,
            "top": null,
            "visibility": null,
            "width": null
          }
        },
        "80e3b8db39b849959f0af636b28e450a": {
          "model_module": "@jupyter-widgets/controls",
          "model_name": "DescriptionStyleModel",
          "model_module_version": "1.5.0",
          "state": {
            "_model_module": "@jupyter-widgets/controls",
            "_model_module_version": "1.5.0",
            "_model_name": "DescriptionStyleModel",
            "_view_count": null,
            "_view_module": "@jupyter-widgets/base",
            "_view_module_version": "1.2.0",
            "_view_name": "StyleView",
            "description_width": ""
          }
        },
        "82fbc83bed1c4d899cd2c903c7abbd6a": {
          "model_module": "@jupyter-widgets/base",
          "model_name": "LayoutModel",
          "model_module_version": "1.2.0",
          "state": {
            "_model_module": "@jupyter-widgets/base",
            "_model_module_version": "1.2.0",
            "_model_name": "LayoutModel",
            "_view_count": null,
            "_view_module": "@jupyter-widgets/base",
            "_view_module_version": "1.2.0",
            "_view_name": "LayoutView",
            "align_content": null,
            "align_items": null,
            "align_self": null,
            "border": null,
            "bottom": null,
            "display": null,
            "flex": null,
            "flex_flow": null,
            "grid_area": null,
            "grid_auto_columns": null,
            "grid_auto_flow": null,
            "grid_auto_rows": null,
            "grid_column": null,
            "grid_gap": null,
            "grid_row": null,
            "grid_template_areas": null,
            "grid_template_columns": null,
            "grid_template_rows": null,
            "height": null,
            "justify_content": null,
            "justify_items": null,
            "left": null,
            "margin": null,
            "max_height": null,
            "max_width": null,
            "min_height": null,
            "min_width": null,
            "object_fit": null,
            "object_position": null,
            "order": null,
            "overflow": null,
            "overflow_x": null,
            "overflow_y": null,
            "padding": null,
            "right": null,
            "top": null,
            "visibility": null,
            "width": null
          }
        },
        "e0eb9c86834643c1a75dc68e2e0a09a0": {
          "model_module": "@jupyter-widgets/controls",
          "model_name": "ProgressStyleModel",
          "model_module_version": "1.5.0",
          "state": {
            "_model_module": "@jupyter-widgets/controls",
            "_model_module_version": "1.5.0",
            "_model_name": "ProgressStyleModel",
            "_view_count": null,
            "_view_module": "@jupyter-widgets/base",
            "_view_module_version": "1.2.0",
            "_view_name": "StyleView",
            "bar_color": null,
            "description_width": ""
          }
        },
        "40191824f3764a37ae86574f243d300b": {
          "model_module": "@jupyter-widgets/base",
          "model_name": "LayoutModel",
          "model_module_version": "1.2.0",
          "state": {
            "_model_module": "@jupyter-widgets/base",
            "_model_module_version": "1.2.0",
            "_model_name": "LayoutModel",
            "_view_count": null,
            "_view_module": "@jupyter-widgets/base",
            "_view_module_version": "1.2.0",
            "_view_name": "LayoutView",
            "align_content": null,
            "align_items": null,
            "align_self": null,
            "border": null,
            "bottom": null,
            "display": null,
            "flex": null,
            "flex_flow": null,
            "grid_area": null,
            "grid_auto_columns": null,
            "grid_auto_flow": null,
            "grid_auto_rows": null,
            "grid_column": null,
            "grid_gap": null,
            "grid_row": null,
            "grid_template_areas": null,
            "grid_template_columns": null,
            "grid_template_rows": null,
            "height": null,
            "justify_content": null,
            "justify_items": null,
            "left": null,
            "margin": null,
            "max_height": null,
            "max_width": null,
            "min_height": null,
            "min_width": null,
            "object_fit": null,
            "object_position": null,
            "order": null,
            "overflow": null,
            "overflow_x": null,
            "overflow_y": null,
            "padding": null,
            "right": null,
            "top": null,
            "visibility": null,
            "width": null
          }
        },
        "314e11c5397b4641bd2484284a88004c": {
          "model_module": "@jupyter-widgets/controls",
          "model_name": "DescriptionStyleModel",
          "model_module_version": "1.5.0",
          "state": {
            "_model_module": "@jupyter-widgets/controls",
            "_model_module_version": "1.5.0",
            "_model_name": "DescriptionStyleModel",
            "_view_count": null,
            "_view_module": "@jupyter-widgets/base",
            "_view_module_version": "1.2.0",
            "_view_name": "StyleView",
            "description_width": ""
          }
        },
        "9b55e801ae5c48098d57a2560611cba2": {
          "model_module": "@jupyter-widgets/controls",
          "model_name": "HBoxModel",
          "model_module_version": "1.5.0",
          "state": {
            "_dom_classes": [],
            "_model_module": "@jupyter-widgets/controls",
            "_model_module_version": "1.5.0",
            "_model_name": "HBoxModel",
            "_view_count": null,
            "_view_module": "@jupyter-widgets/controls",
            "_view_module_version": "1.5.0",
            "_view_name": "HBoxView",
            "box_style": "",
            "children": [
              "IPY_MODEL_31fe13489f904cb3a9bb4c585899c39f",
              "IPY_MODEL_3b6f4bb4f7814459aae337c1c5ee07e4",
              "IPY_MODEL_72e9b1a4d03842b9963f067f20eefdbd"
            ],
            "layout": "IPY_MODEL_9801ed4643f74d9abdb8c8473bd2c97c"
          }
        },
        "31fe13489f904cb3a9bb4c585899c39f": {
          "model_module": "@jupyter-widgets/controls",
          "model_name": "HTMLModel",
          "model_module_version": "1.5.0",
          "state": {
            "_dom_classes": [],
            "_model_module": "@jupyter-widgets/controls",
            "_model_module_version": "1.5.0",
            "_model_name": "HTMLModel",
            "_view_count": null,
            "_view_module": "@jupyter-widgets/controls",
            "_view_module_version": "1.5.0",
            "_view_name": "HTMLView",
            "description": "",
            "description_tooltip": null,
            "layout": "IPY_MODEL_d962b04632df477d88cf5c5567230e5b",
            "placeholder": "​",
            "style": "IPY_MODEL_3d8db134bfc04d7684f051d5e985940e",
            "value": "100%"
          }
        },
        "3b6f4bb4f7814459aae337c1c5ee07e4": {
          "model_module": "@jupyter-widgets/controls",
          "model_name": "FloatProgressModel",
          "model_module_version": "1.5.0",
          "state": {
            "_dom_classes": [],
            "_model_module": "@jupyter-widgets/controls",
            "_model_module_version": "1.5.0",
            "_model_name": "FloatProgressModel",
            "_view_count": null,
            "_view_module": "@jupyter-widgets/controls",
            "_view_module_version": "1.5.0",
            "_view_name": "ProgressView",
            "bar_style": "success",
            "description": "",
            "description_tooltip": null,
            "layout": "IPY_MODEL_f21f669c640c44eb9b2fb7b0c12ad444",
            "max": 170498071,
            "min": 0,
            "orientation": "horizontal",
            "style": "IPY_MODEL_6a1bed1c893a41a6ba8feee4fa11987c",
            "value": 170498071
          }
        },
        "72e9b1a4d03842b9963f067f20eefdbd": {
          "model_module": "@jupyter-widgets/controls",
          "model_name": "HTMLModel",
          "model_module_version": "1.5.0",
          "state": {
            "_dom_classes": [],
            "_model_module": "@jupyter-widgets/controls",
            "_model_module_version": "1.5.0",
            "_model_name": "HTMLModel",
            "_view_count": null,
            "_view_module": "@jupyter-widgets/controls",
            "_view_module_version": "1.5.0",
            "_view_name": "HTMLView",
            "description": "",
            "description_tooltip": null,
            "layout": "IPY_MODEL_f7a6ad9af61e4cb69d4421529f2198a5",
            "placeholder": "​",
            "style": "IPY_MODEL_2127501491784188a75785eb1068a418",
            "value": " 170498071/170498071 [00:13&lt;00:00, 14035093.55it/s]"
          }
        },
        "9801ed4643f74d9abdb8c8473bd2c97c": {
          "model_module": "@jupyter-widgets/base",
          "model_name": "LayoutModel",
          "model_module_version": "1.2.0",
          "state": {
            "_model_module": "@jupyter-widgets/base",
            "_model_module_version": "1.2.0",
            "_model_name": "LayoutModel",
            "_view_count": null,
            "_view_module": "@jupyter-widgets/base",
            "_view_module_version": "1.2.0",
            "_view_name": "LayoutView",
            "align_content": null,
            "align_items": null,
            "align_self": null,
            "border": null,
            "bottom": null,
            "display": null,
            "flex": null,
            "flex_flow": null,
            "grid_area": null,
            "grid_auto_columns": null,
            "grid_auto_flow": null,
            "grid_auto_rows": null,
            "grid_column": null,
            "grid_gap": null,
            "grid_row": null,
            "grid_template_areas": null,
            "grid_template_columns": null,
            "grid_template_rows": null,
            "height": null,
            "justify_content": null,
            "justify_items": null,
            "left": null,
            "margin": null,
            "max_height": null,
            "max_width": null,
            "min_height": null,
            "min_width": null,
            "object_fit": null,
            "object_position": null,
            "order": null,
            "overflow": null,
            "overflow_x": null,
            "overflow_y": null,
            "padding": null,
            "right": null,
            "top": null,
            "visibility": null,
            "width": null
          }
        },
        "d962b04632df477d88cf5c5567230e5b": {
          "model_module": "@jupyter-widgets/base",
          "model_name": "LayoutModel",
          "model_module_version": "1.2.0",
          "state": {
            "_model_module": "@jupyter-widgets/base",
            "_model_module_version": "1.2.0",
            "_model_name": "LayoutModel",
            "_view_count": null,
            "_view_module": "@jupyter-widgets/base",
            "_view_module_version": "1.2.0",
            "_view_name": "LayoutView",
            "align_content": null,
            "align_items": null,
            "align_self": null,
            "border": null,
            "bottom": null,
            "display": null,
            "flex": null,
            "flex_flow": null,
            "grid_area": null,
            "grid_auto_columns": null,
            "grid_auto_flow": null,
            "grid_auto_rows": null,
            "grid_column": null,
            "grid_gap": null,
            "grid_row": null,
            "grid_template_areas": null,
            "grid_template_columns": null,
            "grid_template_rows": null,
            "height": null,
            "justify_content": null,
            "justify_items": null,
            "left": null,
            "margin": null,
            "max_height": null,
            "max_width": null,
            "min_height": null,
            "min_width": null,
            "object_fit": null,
            "object_position": null,
            "order": null,
            "overflow": null,
            "overflow_x": null,
            "overflow_y": null,
            "padding": null,
            "right": null,
            "top": null,
            "visibility": null,
            "width": null
          }
        },
        "3d8db134bfc04d7684f051d5e985940e": {
          "model_module": "@jupyter-widgets/controls",
          "model_name": "DescriptionStyleModel",
          "model_module_version": "1.5.0",
          "state": {
            "_model_module": "@jupyter-widgets/controls",
            "_model_module_version": "1.5.0",
            "_model_name": "DescriptionStyleModel",
            "_view_count": null,
            "_view_module": "@jupyter-widgets/base",
            "_view_module_version": "1.2.0",
            "_view_name": "StyleView",
            "description_width": ""
          }
        },
        "f21f669c640c44eb9b2fb7b0c12ad444": {
          "model_module": "@jupyter-widgets/base",
          "model_name": "LayoutModel",
          "model_module_version": "1.2.0",
          "state": {
            "_model_module": "@jupyter-widgets/base",
            "_model_module_version": "1.2.0",
            "_model_name": "LayoutModel",
            "_view_count": null,
            "_view_module": "@jupyter-widgets/base",
            "_view_module_version": "1.2.0",
            "_view_name": "LayoutView",
            "align_content": null,
            "align_items": null,
            "align_self": null,
            "border": null,
            "bottom": null,
            "display": null,
            "flex": null,
            "flex_flow": null,
            "grid_area": null,
            "grid_auto_columns": null,
            "grid_auto_flow": null,
            "grid_auto_rows": null,
            "grid_column": null,
            "grid_gap": null,
            "grid_row": null,
            "grid_template_areas": null,
            "grid_template_columns": null,
            "grid_template_rows": null,
            "height": null,
            "justify_content": null,
            "justify_items": null,
            "left": null,
            "margin": null,
            "max_height": null,
            "max_width": null,
            "min_height": null,
            "min_width": null,
            "object_fit": null,
            "object_position": null,
            "order": null,
            "overflow": null,
            "overflow_x": null,
            "overflow_y": null,
            "padding": null,
            "right": null,
            "top": null,
            "visibility": null,
            "width": null
          }
        },
        "6a1bed1c893a41a6ba8feee4fa11987c": {
          "model_module": "@jupyter-widgets/controls",
          "model_name": "ProgressStyleModel",
          "model_module_version": "1.5.0",
          "state": {
            "_model_module": "@jupyter-widgets/controls",
            "_model_module_version": "1.5.0",
            "_model_name": "ProgressStyleModel",
            "_view_count": null,
            "_view_module": "@jupyter-widgets/base",
            "_view_module_version": "1.2.0",
            "_view_name": "StyleView",
            "bar_color": null,
            "description_width": ""
          }
        },
        "f7a6ad9af61e4cb69d4421529f2198a5": {
          "model_module": "@jupyter-widgets/base",
          "model_name": "LayoutModel",
          "model_module_version": "1.2.0",
          "state": {
            "_model_module": "@jupyter-widgets/base",
            "_model_module_version": "1.2.0",
            "_model_name": "LayoutModel",
            "_view_count": null,
            "_view_module": "@jupyter-widgets/base",
            "_view_module_version": "1.2.0",
            "_view_name": "LayoutView",
            "align_content": null,
            "align_items": null,
            "align_self": null,
            "border": null,
            "bottom": null,
            "display": null,
            "flex": null,
            "flex_flow": null,
            "grid_area": null,
            "grid_auto_columns": null,
            "grid_auto_flow": null,
            "grid_auto_rows": null,
            "grid_column": null,
            "grid_gap": null,
            "grid_row": null,
            "grid_template_areas": null,
            "grid_template_columns": null,
            "grid_template_rows": null,
            "height": null,
            "justify_content": null,
            "justify_items": null,
            "left": null,
            "margin": null,
            "max_height": null,
            "max_width": null,
            "min_height": null,
            "min_width": null,
            "object_fit": null,
            "object_position": null,
            "order": null,
            "overflow": null,
            "overflow_x": null,
            "overflow_y": null,
            "padding": null,
            "right": null,
            "top": null,
            "visibility": null,
            "width": null
          }
        },
        "2127501491784188a75785eb1068a418": {
          "model_module": "@jupyter-widgets/controls",
          "model_name": "DescriptionStyleModel",
          "model_module_version": "1.5.0",
          "state": {
            "_model_module": "@jupyter-widgets/controls",
            "_model_module_version": "1.5.0",
            "_model_name": "DescriptionStyleModel",
            "_view_count": null,
            "_view_module": "@jupyter-widgets/base",
            "_view_module_version": "1.2.0",
            "_view_name": "StyleView",
            "description_width": ""
          }
        }
      }
    },
    "accelerator": "GPU"
  },
  "cells": [
    {
      "cell_type": "markdown",
      "metadata": {
        "id": "view-in-github",
        "colab_type": "text"
      },
      "source": [
        "<a href=\"https://colab.research.google.com/github/ImAli0/ImAli/blob/main/week7/Week7_lab1_1%2C1_2%2C1_3%2C1_4%2C1_5.ipynb\" target=\"_parent\"><img src=\"https://colab.research.google.com/assets/colab-badge.svg\" alt=\"Open In Colab\"/></a>"
      ]
    },
    {
      "cell_type": "code",
      "execution_count": null,
      "metadata": {
        "colab": {
          "base_uri": "https://localhost:8080/",
          "height": 191,
          "referenced_widgets": [
            "27e4ee136f22428c8f481c6fca91bfa9",
            "4cf3360f28174ec685edc882714aa297",
            "fc51fd42eefb4c0c878db845a1c80930",
            "9f1e1c9734234645a3e36c393afcb450",
            "ca436b79b0ec4b35b7ce1564b1e66be2",
            "d632295c8d454865a2675d749791bbef",
            "80e3b8db39b849959f0af636b28e450a",
            "82fbc83bed1c4d899cd2c903c7abbd6a",
            "e0eb9c86834643c1a75dc68e2e0a09a0",
            "40191824f3764a37ae86574f243d300b",
            "314e11c5397b4641bd2484284a88004c"
          ]
        },
        "id": "7aZVl-gn9oIo",
        "outputId": "812f21a3-3950-4492-f205-35e14e7d5516"
      },
      "outputs": [
        {
          "output_type": "stream",
          "name": "stdout",
          "text": [
            "Downloading https://www.cs.toronto.edu/~kriz/cifar-10-python.tar.gz to ./pt_data/cifar-10-python.tar.gz\n"
          ]
        },
        {
          "output_type": "display_data",
          "data": {
            "text/plain": [
              "  0%|          | 0/170498071 [00:00<?, ?it/s]"
            ],
            "application/vnd.jupyter.widget-view+json": {
              "version_major": 2,
              "version_minor": 0,
              "model_id": "27e4ee136f22428c8f481c6fca91bfa9"
            }
          },
          "metadata": {}
        },
        {
          "output_type": "stream",
          "name": "stdout",
          "text": [
            "Extracting ./pt_data/cifar-10-python.tar.gz to ./pt_data\n",
            "Category:  8\n"
          ]
        },
        {
          "output_type": "display_data",
          "data": {
            "text/plain": [
              "<Figure size 72x72 with 1 Axes>"
            ],
            "image/png": "[encoded data removed]"
          },
          "metadata": {
            "needs_background": "light"
          }
        }
      ],
      "source": [
        "import torchvision \n",
        "import torchvision.transforms as transforms \n",
        "from torchvision.datasets import CIFAR10 \n",
        "from torch.utils.data import DataLoader \n",
        "import numpy as np \n",
        "import matplotlib.pyplot as plt\n",
        "\n",
        "# Load training dataset into a single batch. \n",
        "transform = transforms.Compose([transforms.ToTensor()]) \n",
        "trainset = CIFAR10(root='./pt_data', train=True, download=True, transform=transform) \n",
        "trainloader = DataLoader(trainset, batch_size=len(trainset), shuffle=False) \n",
        "data = next(iter(trainloader)) \n",
        "# Convert to numpy arrays of correct shape for plotting. \n",
        "train_images = data[0].numpy() \n",
        "train_images = np.moveaxis(train_images, 1, 3) \n",
        "train_labels = data[1].numpy()\n",
        "\n",
        "print('Category: ', train_labels[100]) \n",
        "plt.figure(figsize=(1, 1)) \n",
        "plt.imshow(train_images[100]) \n",
        "plt.show() \n"
      ]
    },
    {
      "cell_type": "code",
      "source": [
        "!pip install requests"
      ],
      "metadata": {
        "colab": {
          "base_uri": "https://localhost:8080/"
        },
        "id": "2GAkJnOzCK2v",
        "outputId": "02aa9f26-c9c4-4fb3-f4b9-6902515b3574"
      },
      "execution_count": null,
      "outputs": [
        {
          "output_type": "stream",
          "name": "stdout",
          "text": [
            "Looking in indexes: https://pypi.org/simple, https://us-python.pkg.dev/colab-wheels/public/simple/\n",
            "Requirement already satisfied: requests in /usr/local/lib/python3.7/dist-packages (2.23.0)\n",
            "Requirement already satisfied: certifi>=2017.4.17 in /usr/local/lib/python3.7/dist-packages (from requests) (2022.9.24)\n",
            "Requirement already satisfied: idna<3,>=2.5 in /usr/local/lib/python3.7/dist-packages (from requests) (2.10)\n",
            "Requirement already satisfied: chardet<4,>=3.0.2 in /usr/local/lib/python3.7/dist-packages (from requests) (3.0.4)\n",
            "Requirement already satisfied: urllib3!=1.25.0,!=1.25.1,<1.26,>=1.21.1 in /usr/local/lib/python3.7/dist-packages (from requests) (1.24.3)\n"
          ]
        }
      ]
    },
    {
      "cell_type": "code",
      "source": [
        "import requests \n",
        "url='https://raw.githubusercontent.com/NVDLI/LDL/main/pt_framework/utilities.py'\n",
        "r=requests.get(url)\n",
        "\n",
        "with open('utilities.py','w') as f:\n",
        "  f.write(r.text)"
      ],
      "metadata": {
        "id": "eYJYgrdI-fxd"
      },
      "execution_count": 1,
      "outputs": []
    },
    {
      "cell_type": "code",
      "source": [
        "  import torch \n",
        "  import torch.nn as nn \n",
        "  import torchvision \n",
        "  import torchvision.transforms as transforms \n",
        "  from torchvision.datasets import CIFAR10 \n",
        "  from torch.utils.data import DataLoader \n",
        "  import numpy as np \n",
        "  from utilities import train_model \n",
        "device = torch.device('cuda:0' if torch.cuda.is_available() else \"cpu\") \n",
        "EPOCHS = 128 \n",
        "BATCH_SIZE = 32 \n",
        "# Load training dataset into a single batch to compute mean and stddev. \n",
        "transform = transforms.Compose([transforms.ToTensor()]) \n",
        "trainset = CIFAR10(root='./pt_data', train=True, download=True, transform=transform) \n",
        "trainloader = DataLoader(trainset, batch_size=len(trainset), shuffle=False) \n",
        "data = next(iter(trainloader)) \n",
        "mean = data[0].mean() \n",
        "stddev = data[0].std() \n"
      ],
      "metadata": {
        "colab": {
          "base_uri": "https://localhost:8080/",
          "height": 85,
          "referenced_widgets": [
            "9b55e801ae5c48098d57a2560611cba2",
            "31fe13489f904cb3a9bb4c585899c39f",
            "3b6f4bb4f7814459aae337c1c5ee07e4",
            "72e9b1a4d03842b9963f067f20eefdbd",
            "9801ed4643f74d9abdb8c8473bd2c97c",
            "d962b04632df477d88cf5c5567230e5b",
            "3d8db134bfc04d7684f051d5e985940e",
            "f21f669c640c44eb9b2fb7b0c12ad444",
            "6a1bed1c893a41a6ba8feee4fa11987c",
            "f7a6ad9af61e4cb69d4421529f2198a5",
            "2127501491784188a75785eb1068a418"
          ]
        },
        "id": "VPvQ5sgf87NS",
        "outputId": "2b4309cf-947c-4641-bf37-031fa448201b"
      },
      "execution_count": 2,
      "outputs": [
        {
          "output_type": "stream",
          "name": "stdout",
          "text": [
            "Downloading https://www.cs.toronto.edu/~kriz/cifar-10-python.tar.gz to ./pt_data/cifar-10-python.tar.gz\n"
          ]
        },
        {
          "output_type": "display_data",
          "data": {
            "text/plain": [
              "  0%|          | 0/170498071 [00:00<?, ?it/s]"
            ],
            "application/vnd.jupyter.widget-view+json": {
              "version_major": 2,
              "version_minor": 0,
              "model_id": "9b55e801ae5c48098d57a2560611cba2"
            }
          },
          "metadata": {}
        },
        {
          "output_type": "stream",
          "name": "stdout",
          "text": [
            "Extracting ./pt_data/cifar-10-python.tar.gz to ./pt_data\n"
          ]
        }
      ]
    },
    {
      "cell_type": "code",
      "source": [
        "transform=transforms.Compose( \n",
        "    [transforms.ToTensor(),\n",
        "     transforms.Normalize(mean,stddev)])\n",
        "\n",
        "trainset = CIFAR10(root='./pt_data', train=True, download=True,transform=transform) \n",
        "testset = CIFAR10(root='./pt_data', train=False, download=True,transform=transform)\n",
        "\n",
        "\n",
        "model = nn. Sequential(\n",
        "    nn.Conv2d(3, 64, 5, stride=2, padding=2),\n",
        "    nn.ReLU(),\n",
        "    nn. Conv2d(64, 64, 3, stride=2, padding=1),\n",
        "    nn.ReLU(),\n",
        "    nn.Flatten(),\n",
        "    nn.Linear (64*8*8, 10)\n",
        ")"
      ],
      "metadata": {
        "id": "pjx2hPtpB7BQ",
        "colab": {
          "base_uri": "https://localhost:8080/"
        },
        "outputId": "eaba2d5c-c710-401f-a062-d9045533468c"
      },
      "execution_count": 3,
      "outputs": [
        {
          "output_type": "stream",
          "name": "stdout",
          "text": [
            "Files already downloaded and verified\n",
            "Files already downloaded and verified\n"
          ]
        }
      ]
    },
    {
      "cell_type": "code",
      "source": [
        "layers = next (model.modules())\n",
        "conv_layer0=layers[0]\n",
        "\n",
        "conv_layer1=layers[2]\n",
        "\n",
        "output_layer=layers[5]\n",
        "\n",
        "\n",
        "nn.init.kaiming_normal_(conv_layer0.weight)\n",
        "\n",
        "nn.init.constant(conv_layer0.bias,0.0)\n",
        "\n",
        "nn.init.kaiming_normal_(conv_layer1.weight)\n",
        "\n",
        "nn.init.constant (conv_layer1.bias, 0.0)\n",
        "\n",
        "nn. init.xavier_uniform (output_layer.weight)\n",
        "\n",
        "nn.init.constant (output_layer.bias, 0.0)\n",
        "\n",
        "optimizer = torch.optim.Adam(model.parameters()) \n",
        "loss_function = nn.CrossEntropyLoss()\n",
        "\n",
        "train_model(model, device, EPOCHS, BATCH_SIZE, trainset, testset, optimizer, loss_function, 'acc')"
      ],
      "metadata": {
        "colab": {
          "base_uri": "https://localhost:8080/"
        },
        "id": "8JU8qIfSJ0b7",
        "outputId": "e963e9fb-4557-4dfb-bc9f-55031ddb1e14"
      },
      "execution_count": 4,
      "outputs": [
        {
          "output_type": "stream",
          "name": "stderr",
          "text": [
            "/usr/local/lib/python3.7/dist-packages/ipykernel_launcher.py:11: UserWarning: nn.init.constant is now deprecated in favor of nn.init.constant_.\n",
            "  # This is added back by InteractiveShellApp.init_path()\n",
            "/usr/local/lib/python3.7/dist-packages/ipykernel_launcher.py:15: UserWarning: nn.init.constant is now deprecated in favor of nn.init.constant_.\n",
            "  from ipykernel import kernelapp as app\n",
            "/usr/local/lib/python3.7/dist-packages/ipykernel_launcher.py:17: UserWarning: nn.init.xavier_uniform is now deprecated in favor of nn.init.xavier_uniform_.\n",
            "/usr/local/lib/python3.7/dist-packages/ipykernel_launcher.py:19: UserWarning: nn.init.constant is now deprecated in favor of nn.init.constant_.\n"
          ]
        },
        {
          "output_type": "stream",
          "name": "stdout",
          "text": [
            "Epoch 1/128 loss: 1.4108 - acc: 0.5011 - val_loss: 1.1960 - val_acc: 0.5795\n",
            "Epoch 2/128 loss: 1.0656 - acc: 0.6293 - val_loss: 1.0734 - val_acc: 0.6265\n",
            "Epoch 3/128 loss: 0.9283 - acc: 0.6782 - val_loss: 1.0247 - val_acc: 0.6496\n",
            "Epoch 4/128 loss: 0.8312 - acc: 0.7106 - val_loss: 1.0340 - val_acc: 0.6512\n",
            "Epoch 5/128 loss: 0.7561 - acc: 0.7384 - val_loss: 1.1047 - val_acc: 0.6353\n",
            "Epoch 6/128 loss: 0.6920 - acc: 0.7574 - val_loss: 1.0774 - val_acc: 0.6489\n",
            "Epoch 7/128 loss: 0.6330 - acc: 0.7796 - val_loss: 1.1179 - val_acc: 0.6562\n",
            "Epoch 8/128 loss: 0.5794 - acc: 0.7961 - val_loss: 1.1940 - val_acc: 0.6393\n",
            "Epoch 9/128 loss: 0.5308 - acc: 0.8129 - val_loss: 1.2129 - val_acc: 0.6464\n",
            "Epoch 10/128 loss: 0.4845 - acc: 0.8281 - val_loss: 1.3123 - val_acc: 0.6363\n",
            "Epoch 11/128 loss: 0.4472 - acc: 0.8399 - val_loss: 1.3892 - val_acc: 0.6292\n",
            "Epoch 12/128 loss: 0.4088 - acc: 0.8547 - val_loss: 1.4298 - val_acc: 0.6395\n",
            "Epoch 13/128 loss: 0.3801 - acc: 0.8643 - val_loss: 1.5335 - val_acc: 0.6325\n",
            "Epoch 14/128 loss: 0.3489 - acc: 0.8760 - val_loss: 1.6510 - val_acc: 0.6265\n",
            "Epoch 15/128 loss: 0.3248 - acc: 0.8829 - val_loss: 1.7437 - val_acc: 0.6214\n",
            "Epoch 16/128 loss: 0.3032 - acc: 0.8905 - val_loss: 1.8341 - val_acc: 0.6238\n",
            "Epoch 17/128 loss: 0.2835 - acc: 0.8979 - val_loss: 1.9315 - val_acc: 0.6199\n",
            "Epoch 18/128 loss: 0.2677 - acc: 0.9038 - val_loss: 1.9941 - val_acc: 0.6290\n",
            "Epoch 19/128 loss: 0.2462 - acc: 0.9108 - val_loss: 2.0923 - val_acc: 0.6212\n",
            "Epoch 20/128 loss: 0.2444 - acc: 0.9118 - val_loss: 2.2318 - val_acc: 0.6224\n",
            "Epoch 21/128 loss: 0.2242 - acc: 0.9196 - val_loss: 2.3610 - val_acc: 0.6164\n",
            "Epoch 22/128 loss: 0.2104 - acc: 0.9239 - val_loss: 2.4593 - val_acc: 0.6199\n",
            "Epoch 23/128 loss: 0.2009 - acc: 0.9277 - val_loss: 2.5144 - val_acc: 0.6168\n",
            "Epoch 24/128 loss: 0.1904 - acc: 0.9319 - val_loss: 2.6316 - val_acc: 0.6113\n",
            "Epoch 25/128 loss: 0.1843 - acc: 0.9332 - val_loss: 2.7405 - val_acc: 0.6213\n",
            "Epoch 26/128 loss: 0.1855 - acc: 0.9336 - val_loss: 2.8275 - val_acc: 0.6179\n",
            "Epoch 27/128 loss: 0.1721 - acc: 0.9379 - val_loss: 2.8754 - val_acc: 0.6261\n",
            "Epoch 28/128 loss: 0.1718 - acc: 0.9406 - val_loss: 3.0722 - val_acc: 0.6221\n",
            "Epoch 29/128 loss: 0.1600 - acc: 0.9434 - val_loss: 3.1130 - val_acc: 0.6155\n",
            "Epoch 30/128 loss: 0.1532 - acc: 0.9462 - val_loss: 3.1403 - val_acc: 0.6160\n",
            "Epoch 31/128 loss: 0.1670 - acc: 0.9424 - val_loss: 3.3497 - val_acc: 0.6159\n",
            "Epoch 32/128 loss: 0.1581 - acc: 0.9450 - val_loss: 3.3726 - val_acc: 0.6139\n",
            "Epoch 33/128 loss: 0.1533 - acc: 0.9464 - val_loss: 3.5147 - val_acc: 0.6057\n",
            "Epoch 34/128 loss: 0.1509 - acc: 0.9481 - val_loss: 3.5871 - val_acc: 0.6060\n",
            "Epoch 35/128 loss: 0.1477 - acc: 0.9484 - val_loss: 3.6488 - val_acc: 0.6193\n",
            "Epoch 36/128 loss: 0.1514 - acc: 0.9492 - val_loss: 3.7822 - val_acc: 0.6153\n",
            "Epoch 37/128 loss: 0.1395 - acc: 0.9526 - val_loss: 3.8843 - val_acc: 0.6184\n",
            "Epoch 38/128 loss: 0.1468 - acc: 0.9498 - val_loss: 4.0053 - val_acc: 0.6089\n",
            "Epoch 39/128 loss: 0.1340 - acc: 0.9556 - val_loss: 4.1310 - val_acc: 0.6201\n",
            "Epoch 40/128 loss: 0.1485 - acc: 0.9524 - val_loss: 4.2125 - val_acc: 0.6151\n",
            "Epoch 41/128 loss: 0.1349 - acc: 0.9550 - val_loss: 4.3629 - val_acc: 0.6154\n",
            "Epoch 42/128 loss: 0.1401 - acc: 0.9543 - val_loss: 4.3161 - val_acc: 0.6146\n",
            "Epoch 43/128 loss: 0.1360 - acc: 0.9547 - val_loss: 4.4328 - val_acc: 0.6094\n",
            "Epoch 44/128 loss: 0.1311 - acc: 0.9567 - val_loss: 4.6900 - val_acc: 0.6146\n",
            "Epoch 45/128 loss: 0.1369 - acc: 0.9556 - val_loss: 4.6544 - val_acc: 0.6134\n",
            "Epoch 46/128 loss: 0.1381 - acc: 0.9549 - val_loss: 4.6478 - val_acc: 0.6117\n",
            "Epoch 47/128 loss: 0.1303 - acc: 0.9589 - val_loss: 4.7944 - val_acc: 0.6086\n",
            "Epoch 48/128 loss: 0.1371 - acc: 0.9572 - val_loss: 4.8087 - val_acc: 0.6180\n",
            "Epoch 49/128 loss: 0.1340 - acc: 0.9580 - val_loss: 4.9785 - val_acc: 0.6109\n",
            "Epoch 50/128 loss: 0.1229 - acc: 0.9623 - val_loss: 5.1201 - val_acc: 0.6112\n",
            "Epoch 51/128 loss: 0.1297 - acc: 0.9589 - val_loss: 5.1995 - val_acc: 0.6098\n",
            "Epoch 52/128 loss: 0.1382 - acc: 0.9576 - val_loss: 5.3243 - val_acc: 0.6125\n",
            "Epoch 53/128 loss: 0.1315 - acc: 0.9596 - val_loss: 5.3665 - val_acc: 0.6021\n",
            "Epoch 54/128 loss: 0.1201 - acc: 0.9635 - val_loss: 5.3714 - val_acc: 0.6088\n",
            "Epoch 55/128 loss: 0.1382 - acc: 0.9598 - val_loss: 5.3929 - val_acc: 0.6125\n",
            "Epoch 56/128 loss: 0.1287 - acc: 0.9626 - val_loss: 5.6260 - val_acc: 0.6071\n",
            "Epoch 57/128 loss: 0.1254 - acc: 0.9636 - val_loss: 5.7046 - val_acc: 0.6061\n",
            "Epoch 58/128 loss: 0.1338 - acc: 0.9611 - val_loss: 5.7693 - val_acc: 0.6089\n",
            "Epoch 59/128 loss: 0.1245 - acc: 0.9644 - val_loss: 5.9421 - val_acc: 0.6061\n",
            "Epoch 60/128 loss: 0.1305 - acc: 0.9630 - val_loss: 6.0960 - val_acc: 0.6008\n",
            "Epoch 61/128 loss: 0.1227 - acc: 0.9648 - val_loss: 6.1295 - val_acc: 0.6124\n",
            "Epoch 62/128 loss: 0.1286 - acc: 0.9635 - val_loss: 6.2613 - val_acc: 0.6078\n",
            "Epoch 63/128 loss: 0.1317 - acc: 0.9637 - val_loss: 6.4079 - val_acc: 0.6106\n",
            "Epoch 64/128 loss: 0.1261 - acc: 0.9643 - val_loss: 6.3807 - val_acc: 0.6137\n",
            "Epoch 65/128 loss: 0.1206 - acc: 0.9659 - val_loss: 6.5266 - val_acc: 0.6054\n",
            "Epoch 66/128 loss: 0.1274 - acc: 0.9651 - val_loss: 6.6354 - val_acc: 0.6120\n",
            "Epoch 67/128 loss: 0.1388 - acc: 0.9632 - val_loss: 6.7289 - val_acc: 0.6113\n",
            "Epoch 68/128 loss: 0.1239 - acc: 0.9660 - val_loss: 6.7841 - val_acc: 0.6066\n",
            "Epoch 69/128 loss: 0.1357 - acc: 0.9636 - val_loss: 6.8227 - val_acc: 0.6041\n",
            "Epoch 70/128 loss: 0.1278 - acc: 0.9664 - val_loss: 6.9200 - val_acc: 0.6100\n",
            "Epoch 71/128 loss: 0.1294 - acc: 0.9654 - val_loss: 7.0789 - val_acc: 0.6183\n",
            "Epoch 72/128 loss: 0.1386 - acc: 0.9642 - val_loss: 7.2153 - val_acc: 0.6066\n",
            "Epoch 73/128 loss: 0.1247 - acc: 0.9659 - val_loss: 7.3320 - val_acc: 0.6184\n",
            "Epoch 74/128 loss: 0.1356 - acc: 0.9663 - val_loss: 7.2985 - val_acc: 0.6104\n",
            "Epoch 75/128 loss: 0.1190 - acc: 0.9697 - val_loss: 7.4260 - val_acc: 0.6065\n",
            "Epoch 76/128 loss: 0.1300 - acc: 0.9675 - val_loss: 7.5795 - val_acc: 0.6053\n",
            "Epoch 77/128 loss: 0.1298 - acc: 0.9668 - val_loss: 7.5610 - val_acc: 0.6090\n",
            "Epoch 78/128 loss: 0.1318 - acc: 0.9668 - val_loss: 7.5569 - val_acc: 0.6088\n",
            "Epoch 79/128 loss: 0.1199 - acc: 0.9696 - val_loss: 7.7532 - val_acc: 0.6157\n",
            "Epoch 80/128 loss: 0.1353 - acc: 0.9673 - val_loss: 7.9418 - val_acc: 0.6086\n",
            "Epoch 81/128 loss: 0.1306 - acc: 0.9681 - val_loss: 7.9687 - val_acc: 0.6099\n",
            "Epoch 82/128 loss: 0.1210 - acc: 0.9699 - val_loss: 7.9628 - val_acc: 0.6113\n",
            "Epoch 83/128 loss: 0.1259 - acc: 0.9697 - val_loss: 8.1374 - val_acc: 0.6093\n",
            "Epoch 84/128 loss: 0.1354 - acc: 0.9684 - val_loss: 8.1714 - val_acc: 0.6100\n",
            "Epoch 85/128 loss: 0.1208 - acc: 0.9719 - val_loss: 8.4853 - val_acc: 0.6123\n",
            "Epoch 86/128 loss: 0.1353 - acc: 0.9690 - val_loss: 8.4289 - val_acc: 0.6009\n",
            "Epoch 87/128 loss: 0.1283 - acc: 0.9702 - val_loss: 8.6205 - val_acc: 0.6081\n",
            "Epoch 88/128 loss: 0.1240 - acc: 0.9715 - val_loss: 8.5999 - val_acc: 0.6115\n",
            "Epoch 89/128 loss: 0.1304 - acc: 0.9695 - val_loss: 8.7088 - val_acc: 0.6079\n",
            "Epoch 90/128 loss: 0.1283 - acc: 0.9694 - val_loss: 8.9501 - val_acc: 0.6045\n",
            "Epoch 91/128 loss: 0.1197 - acc: 0.9729 - val_loss: 8.9481 - val_acc: 0.6072\n",
            "Epoch 92/128 loss: 0.1381 - acc: 0.9706 - val_loss: 9.1356 - val_acc: 0.6061\n",
            "Epoch 93/128 loss: 0.1354 - acc: 0.9701 - val_loss: 9.0199 - val_acc: 0.6055\n",
            "Epoch 94/128 loss: 0.1406 - acc: 0.9699 - val_loss: 9.2249 - val_acc: 0.6042\n",
            "Epoch 95/128 loss: 0.1213 - acc: 0.9733 - val_loss: 9.4360 - val_acc: 0.6053\n",
            "Epoch 96/128 loss: 0.1417 - acc: 0.9706 - val_loss: 9.5663 - val_acc: 0.6071\n",
            "Epoch 97/128 loss: 0.1295 - acc: 0.9714 - val_loss: 9.6337 - val_acc: 0.6151\n",
            "Epoch 98/128 loss: 0.1190 - acc: 0.9733 - val_loss: 9.9005 - val_acc: 0.6089\n",
            "Epoch 99/128 loss: 0.1393 - acc: 0.9707 - val_loss: 9.8122 - val_acc: 0.6041\n",
            "Epoch 100/128 loss: 0.1285 - acc: 0.9726 - val_loss: 10.0506 - val_acc: 0.6060\n",
            "Epoch 101/128 loss: 0.1440 - acc: 0.9707 - val_loss: 10.0185 - val_acc: 0.6034\n",
            "Epoch 102/128 loss: 0.1290 - acc: 0.9735 - val_loss: 10.1454 - val_acc: 0.6129\n",
            "Epoch 103/128 loss: 0.1306 - acc: 0.9735 - val_loss: 10.1890 - val_acc: 0.6063\n",
            "Epoch 104/128 loss: 0.1253 - acc: 0.9738 - val_loss: 10.2782 - val_acc: 0.6106\n",
            "Epoch 105/128 loss: 0.1352 - acc: 0.9720 - val_loss: 10.4509 - val_acc: 0.6067\n",
            "Epoch 106/128 loss: 0.1368 - acc: 0.9723 - val_loss: 10.4707 - val_acc: 0.6069\n",
            "Epoch 107/128 loss: 0.1333 - acc: 0.9738 - val_loss: 10.6901 - val_acc: 0.6065\n",
            "Epoch 108/128 loss: 0.1268 - acc: 0.9749 - val_loss: 11.0279 - val_acc: 0.6102\n",
            "Epoch 109/128 loss: 0.1356 - acc: 0.9736 - val_loss: 11.1064 - val_acc: 0.5991\n",
            "Epoch 110/128 loss: 0.1266 - acc: 0.9745 - val_loss: 11.2803 - val_acc: 0.6111\n",
            "Epoch 111/128 loss: 0.1328 - acc: 0.9744 - val_loss: 11.3390 - val_acc: 0.6084\n",
            "Epoch 112/128 loss: 0.1335 - acc: 0.9739 - val_loss: 11.0962 - val_acc: 0.6024\n",
            "Epoch 113/128 loss: 0.1349 - acc: 0.9739 - val_loss: 11.4198 - val_acc: 0.6069\n",
            "Epoch 114/128 loss: 0.1368 - acc: 0.9742 - val_loss: 11.3035 - val_acc: 0.5994\n",
            "Epoch 115/128 loss: 0.1309 - acc: 0.9754 - val_loss: 11.3894 - val_acc: 0.6081\n",
            "Epoch 116/128 loss: 0.1331 - acc: 0.9760 - val_loss: 11.6371 - val_acc: 0.6084\n",
            "Epoch 117/128 loss: 0.1279 - acc: 0.9755 - val_loss: 11.7245 - val_acc: 0.5994\n",
            "Epoch 118/128 loss: 0.1439 - acc: 0.9739 - val_loss: 11.5589 - val_acc: 0.6113\n",
            "Epoch 119/128 loss: 0.1415 - acc: 0.9740 - val_loss: 11.8884 - val_acc: 0.6089\n",
            "Epoch 120/128 loss: 0.1293 - acc: 0.9756 - val_loss: 12.4283 - val_acc: 0.6031\n",
            "Epoch 121/128 loss: 0.1425 - acc: 0.9743 - val_loss: 12.2264 - val_acc: 0.6050\n",
            "Epoch 122/128 loss: 0.1298 - acc: 0.9764 - val_loss: 12.4191 - val_acc: 0.6024\n",
            "Epoch 123/128 loss: 0.1416 - acc: 0.9754 - val_loss: 12.3660 - val_acc: 0.6102\n",
            "Epoch 124/128 loss: 0.1305 - acc: 0.9757 - val_loss: 12.4544 - val_acc: 0.6094\n",
            "Epoch 125/128 loss: 0.1399 - acc: 0.9749 - val_loss: 12.5313 - val_acc: 0.5974\n",
            "Epoch 126/128 loss: 0.1358 - acc: 0.9763 - val_loss: 12.9653 - val_acc: 0.6047\n",
            "Epoch 127/128 loss: 0.1355 - acc: 0.9769 - val_loss: 13.0142 - val_acc: 0.6103\n",
            "Epoch 128/128 loss: 0.1312 - acc: 0.9767 - val_loss: 13.0669 - val_acc: 0.6109\n"
          ]
        },
        {
          "output_type": "execute_result",
          "data": {
            "text/plain": [
              "[0.9766874600127959, 0.6109225239616614]"
            ]
          },
          "metadata": {},
          "execution_count": 4
        }
      ]
    },
    {
      "cell_type": "code",
      "source": [],
      "metadata": {
        "id": "GdK0t3WpJ6hb"
      },
      "execution_count": null,
      "outputs": []
    }
  ]
}